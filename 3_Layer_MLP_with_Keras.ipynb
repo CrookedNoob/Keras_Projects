{
 "cells": [
  {
   "cell_type": "code",
   "execution_count": 53,
   "metadata": {},
   "outputs": [],
   "source": [
    "import numpy as np\n",
    "from keras.datasets import mnist\n",
    "from keras.models import Sequential\n",
    "from keras.layers import Dense, Dropout, Activation\n",
    "from keras.utils import to_categorical, plot_model\n",
    "from keras.regularizers import l2\n",
    "import matplotlib.pyplot as plt\n",
    "\n",
    "import os\n",
    "os.environ[\"PATH\"] += os.pathsep + 'C:/Program Files (x86)/Graphviz2.38/bin/'"
   ]
  },
  {
   "cell_type": "code",
   "execution_count": 37,
   "metadata": {},
   "outputs": [],
   "source": [
    "#load dataset\n",
    "\n",
    "(x_train, y_train), (x_test, y_test)= mnist.load_data()"
   ]
  },
  {
   "cell_type": "code",
   "execution_count": 38,
   "metadata": {},
   "outputs": [
    {
     "name": "stdout",
     "output_type": "stream",
     "text": [
      "Unique Counts: {0: 5923, 1: 6742, 2: 5958, 3: 6131, 4: 5842, 5: 5421, 6: 5918, 7: 6265, 8: 5851, 9: 5949}\n"
     ]
    }
   ],
   "source": [
    "#count the number of unique train labels\n",
    "unique, counts= np.unique(y_train, return_counts=True)\n",
    "print(\"Unique Counts:\", dict(zip(unique, counts)))"
   ]
  },
  {
   "cell_type": "code",
   "execution_count": 39,
   "metadata": {},
   "outputs": [
    {
     "name": "stdout",
     "output_type": "stream",
     "text": [
      "Unique Counts: {0: 980, 1: 1135, 2: 1032, 3: 1010, 4: 982, 5: 892, 6: 958, 7: 1028, 8: 974, 9: 1009}\n"
     ]
    }
   ],
   "source": [
    "#Count the number of unique test labels\n",
    "unique, counts= np.unique(y_test, return_counts=True)\n",
    "print(\"Unique Counts:\", dict(zip(unique, counts)))"
   ]
  },
  {
   "cell_type": "code",
   "execution_count": 40,
   "metadata": {},
   "outputs": [],
   "source": [
    "#sample 25 random digits from train dataset\n",
    "\n",
    "indexes= np.random.randint(0, x_train.shape[0], size=25)\n",
    "images= x_train[indexes]\n",
    "labels= y_train[indexes]"
   ]
  },
  {
   "cell_type": "code",
   "execution_count": 41,
   "metadata": {},
   "outputs": [
    {
     "data": {
      "image/png": "[encoded data removed]",
      "text/plain": [
       "<Figure size 360x360 with 25 Axes>"
      ]
     },
     "metadata": {
      "needs_background": "light"
     },
     "output_type": "display_data"
    }
   ],
   "source": [
    "#plot the 25 images\n",
    "plt.figure(figsize=(5,5))\n",
    "for index in range(len(indexes)):\n",
    "    plt.subplot(5,5,index+1)\n",
    "    image=images[index]\n",
    "    plt.imshow(image, cmap='gray')\n",
    "    plt.axis('off')"
   ]
  },
  {
   "cell_type": "code",
   "execution_count": 42,
   "metadata": {},
   "outputs": [
    {
     "data": {
      "text/plain": [
       "10"
      ]
     },
     "execution_count": 42,
     "metadata": {},
     "output_type": "execute_result"
    }
   ],
   "source": [
    "#Compute the number of labels\n",
    "num_labels= len(np.unique(y_train))\n",
    "num_labels"
   ]
  },
  {
   "cell_type": "code",
   "execution_count": 43,
   "metadata": {},
   "outputs": [],
   "source": [
    "#Convert labels to one hot-vector\n",
    "\n",
    "y_train= to_categorical(y_train)\n",
    "y_test= to_categorical(y_test)"
   ]
  },
  {
   "cell_type": "code",
   "execution_count": 44,
   "metadata": {},
   "outputs": [
    {
     "data": {
      "text/plain": [
       "784"
      ]
     },
     "execution_count": 44,
     "metadata": {},
     "output_type": "execute_result"
    }
   ],
   "source": [
    "#image dimensions assumed to be square\n",
    "img_size= x_train.shape[1]\n",
    "input_size= img_size*img_size\n",
    "input_size"
   ]
  },
  {
   "cell_type": "code",
   "execution_count": 45,
   "metadata": {},
   "outputs": [],
   "source": [
    "#Resize and normalize the images\n",
    "x_train= (np.reshape(x_train, [-1, input_size])/255.).astype('float32')\n",
    "x_test= (np.reshape(x_test, [-1, input_size])/255.).astype('float32')"
   ]
  },
  {
   "cell_type": "code",
   "execution_count": 46,
   "metadata": {},
   "outputs": [],
   "source": [
    "#network parameters\n",
    "batch_size=256\n",
    "hidden_units=256\n",
    "dropout=0.45"
   ]
  },
  {
   "cell_type": "code",
   "execution_count": 47,
   "metadata": {},
   "outputs": [
    {
     "name": "stdout",
     "output_type": "stream",
     "text": [
      "_________________________________________________________________\n",
      "Layer (type)                 Output Shape              Param #   \n",
      "=================================================================\n",
      "dense_10 (Dense)             (None, 256)               200960    \n",
      "_________________________________________________________________\n",
      "activation_9 (Activation)    (None, 256)               0         \n",
      "_________________________________________________________________\n",
      "dropout_7 (Dropout)          (None, 256)               0         \n",
      "_________________________________________________________________\n",
      "dense_11 (Dense)             (None, 256)               65792     \n",
      "_________________________________________________________________\n",
      "activation_10 (Activation)   (None, 256)               0         \n",
      "_________________________________________________________________\n",
      "dropout_8 (Dropout)          (None, 256)               0         \n",
      "_________________________________________________________________\n",
      "dense_12 (Dense)             (None, 10)                2570      \n",
      "_________________________________________________________________\n",
      "activation_11 (Activation)   (None, 10)                0         \n",
      "=================================================================\n",
      "Total params: 269,322\n",
      "Trainable params: 269,322\n",
      "Non-trainable params: 0\n",
      "_________________________________________________________________\n"
     ]
    }
   ],
   "source": [
    "#model is a 3-layer MLP with ReLU and Dropout after each layer\n",
    "\n",
    "model= Sequential()\n",
    "model.add(Dense(hidden_units, input_dim= input_size))\n",
    "model.add(Activation('relu'))\n",
    "model.add(Dropout(dropout))\n",
    "model.add(Dense(hidden_units))\n",
    "model.add(Activation('relu'))\n",
    "model.add(Dropout(dropout))\n",
    "model.add(Dense(num_labels))\n",
    "#This is the output for one-hot encoded vector\n",
    "model.add(Activation('softmax'))\n",
    "\n",
    "model.summary()"
   ]
  },
  {
   "cell_type": "code",
   "execution_count": 48,
   "metadata": {
    "scrolled": true
   },
   "outputs": [],
   "source": [
    "plot_model(model, to_file='3_layer_MLP_MNIST.png', show_shapes=True)"
   ]
  },
  {
   "cell_type": "markdown",
   "metadata": {},
   "source": [
    "![3_layer_mlp_mnist](https://user-images.githubusercontent.com/13174586/52229923-1b73c980-28dc-11e9-988d-f40b2f1ab68f.png)"
   ]
  },
  {
   "cell_type": "code",
   "execution_count": 49,
   "metadata": {},
   "outputs": [],
   "source": [
    "#loss function for one hot vector using \n",
    "#adam optimizer\n",
    "#accuracy is good metrics for calssification tasks\n",
    "\n",
    "model.compile(optimizer='adam', loss='categorical_crossentropy', metrics=['acc'])"
   ]
  },
  {
   "cell_type": "code",
   "execution_count": 50,
   "metadata": {},
   "outputs": [
    {
     "name": "stdout",
     "output_type": "stream",
     "text": [
      "Train on 48000 samples, validate on 12000 samples\n",
      "Epoch 1/20\n",
      "48000/48000 [==============================] - 2s 32us/step - loss: 0.5724 - acc: 0.8200 - val_loss: 0.1893 - val_acc: 0.9451\n",
      "Epoch 2/20\n",
      "48000/48000 [==============================] - 1s 20us/step - loss: 0.2374 - acc: 0.9293 - val_loss: 0.1336 - val_acc: 0.9611\n",
      "Epoch 3/20\n",
      "48000/48000 [==============================] - 1s 20us/step - loss: 0.1814 - acc: 0.9466 - val_loss: 0.1119 - val_acc: 0.9660\n",
      "Epoch 4/20\n",
      "48000/48000 [==============================] - 1s 19us/step - loss: 0.1480 - acc: 0.9554 - val_loss: 0.1002 - val_acc: 0.9703\n",
      "Epoch 5/20\n",
      "48000/48000 [==============================] - 1s 19us/step - loss: 0.1303 - acc: 0.9609 - val_loss: 0.0926 - val_acc: 0.9722\n",
      "Epoch 6/20\n",
      "48000/48000 [==============================] - 1s 19us/step - loss: 0.1126 - acc: 0.9645 - val_loss: 0.0871 - val_acc: 0.9731\n",
      "Epoch 7/20\n",
      "48000/48000 [==============================] - 1s 19us/step - loss: 0.1030 - acc: 0.9676 - val_loss: 0.0820 - val_acc: 0.9769\n",
      "Epoch 8/20\n",
      "48000/48000 [==============================] - 1s 19us/step - loss: 0.0949 - acc: 0.9702 - val_loss: 0.0805 - val_acc: 0.9761\n",
      "Epoch 9/20\n",
      "48000/48000 [==============================] - 1s 20us/step - loss: 0.0885 - acc: 0.9726 - val_loss: 0.0788 - val_acc: 0.9757\n",
      "Epoch 10/20\n",
      "48000/48000 [==============================] - 1s 20us/step - loss: 0.0790 - acc: 0.9751 - val_loss: 0.0737 - val_acc: 0.9778\n",
      "Epoch 11/20\n",
      "48000/48000 [==============================] - 1s 21us/step - loss: 0.0780 - acc: 0.9758 - val_loss: 0.0762 - val_acc: 0.9782\n",
      "Epoch 12/20\n",
      "48000/48000 [==============================] - 1s 21us/step - loss: 0.0706 - acc: 0.9779 - val_loss: 0.0760 - val_acc: 0.9783\n",
      "Epoch 13/20\n",
      "48000/48000 [==============================] - 1s 20us/step - loss: 0.0678 - acc: 0.9790 - val_loss: 0.0782 - val_acc: 0.9776\n",
      "Epoch 14/20\n",
      "48000/48000 [==============================] - 1s 20us/step - loss: 0.0656 - acc: 0.9791 - val_loss: 0.0717 - val_acc: 0.9794\n",
      "Epoch 15/20\n",
      "48000/48000 [==============================] - ETA: 0s - loss: 0.0632 - acc: 0.979 - 1s 20us/step - loss: 0.0634 - acc: 0.9795 - val_loss: 0.0741 - val_acc: 0.9794\n",
      "Epoch 16/20\n",
      "48000/48000 [==============================] - 1s 20us/step - loss: 0.0585 - acc: 0.9811 - val_loss: 0.0735 - val_acc: 0.9797\n",
      "Epoch 17/20\n",
      "48000/48000 [==============================] - 1s 20us/step - loss: 0.0581 - acc: 0.9812 - val_loss: 0.0763 - val_acc: 0.9802\n",
      "Epoch 18/20\n",
      "48000/48000 [==============================] - 1s 20us/step - loss: 0.0534 - acc: 0.9827 - val_loss: 0.0706 - val_acc: 0.9803\n",
      "Epoch 19/20\n",
      "48000/48000 [==============================] - 1s 20us/step - loss: 0.0499 - acc: 0.9835 - val_loss: 0.0742 - val_acc: 0.9790\n",
      "Epoch 20/20\n",
      "48000/48000 [==============================] - 1s 20us/step - loss: 0.0521 - acc: 0.9829 - val_loss: 0.0737 - val_acc: 0.9802\n"
     ]
    },
    {
     "data": {
      "text/plain": [
       "<keras.callbacks.History at 0x20223c75e48>"
      ]
     },
     "execution_count": 50,
     "metadata": {},
     "output_type": "execute_result"
    }
   ],
   "source": [
    "#train the network\n",
    "\n",
    "model.fit(x_train, y_train, epochs=20, batch_size=batch_size, validation_split=0.2)"
   ]
  },
  {
   "cell_type": "code",
   "execution_count": 51,
   "metadata": {},
   "outputs": [
    {
     "name": "stdout",
     "output_type": "stream",
     "text": [
      "10000/10000 [==============================] - 0s 8us/step\n",
      "Test Accuracy: 98.1%\n"
     ]
    }
   ],
   "source": [
    "#validate the model on test dataset\n",
    "\n",
    "loss, acc= model.evaluate(x_test, y_test, batch_size=batch_size)\n",
    "print(\"Test Accuracy: %.1f%%\" %(100.0*acc))"
   ]
  },
  {
   "cell_type": "code",
   "execution_count": 59,
   "metadata": {},
   "outputs": [
    {
     "name": "stdout",
     "output_type": "stream",
     "text": [
      "_________________________________________________________________\n",
      "Layer (type)                 Output Shape              Param #   \n",
      "=================================================================\n",
      "dense_16 (Dense)             (None, 256)               200960    \n",
      "_________________________________________________________________\n",
      "activation_15 (Activation)   (None, 256)               0         \n",
      "_________________________________________________________________\n",
      "dense_17 (Dense)             (None, 256)               65792     \n",
      "_________________________________________________________________\n",
      "activation_16 (Activation)   (None, 256)               0         \n",
      "_________________________________________________________________\n",
      "dense_18 (Dense)             (None, 10)                2570      \n",
      "_________________________________________________________________\n",
      "activation_17 (Activation)   (None, 10)                0         \n",
      "=================================================================\n",
      "Total params: 269,322\n",
      "Trainable params: 269,322\n",
      "Non-trainable params: 0\n",
      "_________________________________________________________________\n"
     ]
    }
   ],
   "source": [
    "#Implementing l2 regularizer\n",
    "\n",
    "#model is a 3-layer MLP with ReLU and Dropout after each layer\n",
    "\n",
    "model= Sequential()\n",
    "model.add(Dense(hidden_units, kernel_regularizer=l2(0.001),input_dim= input_size))\n",
    "model.add(Activation('relu'))\n",
    "model.add(Dense(hidden_units))\n",
    "model.add(Activation('relu'))\n",
    "model.add(Dense(num_labels))\n",
    "#This is the output for one-hot encoded vector\n",
    "model.add(Activation('softmax'))\n",
    "\n",
    "model.summary()"
   ]
  },
  {
   "cell_type": "code",
   "execution_count": 60,
   "metadata": {},
   "outputs": [],
   "source": [
    "plot_model(model, to_file='3_layer_MLP_MNIST_l2_regularizer.png', show_shapes=True)"
   ]
  },
  {
   "cell_type": "markdown",
   "metadata": {},
   "source": [
    "![3_layer_mlp_mnist_l2_regularizer](https://user-images.githubusercontent.com/13174586/52231924-267d2880-28e1-11e9-837e-6ac9efb6c16b.png)"
   ]
  },
  {
   "cell_type": "code",
   "execution_count": 61,
   "metadata": {},
   "outputs": [],
   "source": [
    "#loss function for one hot vector using \n",
    "#adam optimizer\n",
    "#accuracy is good metrics for calssification tasks\n",
    "\n",
    "model.compile(optimizer='adam', loss='categorical_crossentropy', metrics=['acc'])"
   ]
  },
  {
   "cell_type": "code",
   "execution_count": 62,
   "metadata": {},
   "outputs": [
    {
     "name": "stdout",
     "output_type": "stream",
     "text": [
      "Train on 48000 samples, validate on 12000 samples\n",
      "Epoch 1/20\n",
      "48000/48000 [==============================] - 2s 32us/step - loss: 0.5753 - acc: 0.8980 - val_loss: 0.3171 - val_acc: 0.9470\n",
      "Epoch 2/20\n",
      "48000/48000 [==============================] - 1s 20us/step - loss: 0.2608 - acc: 0.9583 - val_loss: 0.2279 - val_acc: 0.9632\n",
      "Epoch 3/20\n",
      "48000/48000 [==============================] - 1s 20us/step - loss: 0.1893 - acc: 0.9708 - val_loss: 0.1873 - val_acc: 0.9681\n",
      "Epoch 4/20\n",
      "48000/48000 [==============================] - 1s 20us/step - loss: 0.1525 - acc: 0.9763 - val_loss: 0.1622 - val_acc: 0.9707\n",
      "Epoch 5/20\n",
      "48000/48000 [==============================] - 1s 21us/step - loss: 0.1320 - acc: 0.9794 - val_loss: 0.1533 - val_acc: 0.9719\n",
      "Epoch 6/20\n",
      "48000/48000 [==============================] - 1s 21us/step - loss: 0.1212 - acc: 0.9803 - val_loss: 0.1387 - val_acc: 0.9748\n",
      "Epoch 7/20\n",
      "48000/48000 [==============================] - 1s 19us/step - loss: 0.1067 - acc: 0.9835 - val_loss: 0.1262 - val_acc: 0.9762\n",
      "Epoch 8/20\n",
      "48000/48000 [==============================] - 1s 20us/step - loss: 0.1020 - acc: 0.9841 - val_loss: 0.1608 - val_acc: 0.9672\n",
      "Epoch 9/20\n",
      "48000/48000 [==============================] - 1s 23us/step - loss: 0.0951 - acc: 0.9863 - val_loss: 0.1387 - val_acc: 0.9717\n",
      "Epoch 10/20\n",
      "48000/48000 [==============================] - 1s 19us/step - loss: 0.0917 - acc: 0.9856 - val_loss: 0.1276 - val_acc: 0.9753\n",
      "Epoch 11/20\n",
      "48000/48000 [==============================] - 1s 19us/step - loss: 0.0861 - acc: 0.9875 - val_loss: 0.1323 - val_acc: 0.9751\n",
      "Epoch 12/20\n",
      "48000/48000 [==============================] - 1s 19us/step - loss: 0.0844 - acc: 0.9876 - val_loss: 0.1450 - val_acc: 0.9697\n",
      "Epoch 13/20\n",
      "48000/48000 [==============================] - 1s 21us/step - loss: 0.0841 - acc: 0.9880 - val_loss: 0.1214 - val_acc: 0.9767\n",
      "Epoch 14/20\n",
      "48000/48000 [==============================] - 1s 19us/step - loss: 0.0784 - acc: 0.9889 - val_loss: 0.1276 - val_acc: 0.9752\n",
      "Epoch 15/20\n",
      "48000/48000 [==============================] - 1s 19us/step - loss: 0.0816 - acc: 0.9881 - val_loss: 0.1279 - val_acc: 0.9754\n",
      "Epoch 16/20\n",
      "48000/48000 [==============================] - 1s 19us/step - loss: 0.0765 - acc: 0.9889 - val_loss: 0.1203 - val_acc: 0.9766\n",
      "Epoch 17/20\n",
      "48000/48000 [==============================] - 1s 19us/step - loss: 0.0681 - acc: 0.9916 - val_loss: 0.1351 - val_acc: 0.9747\n",
      "Epoch 18/20\n",
      "48000/48000 [==============================] - 1s 20us/step - loss: 0.0712 - acc: 0.9905 - val_loss: 0.1312 - val_acc: 0.9751\n",
      "Epoch 19/20\n",
      "48000/48000 [==============================] - 1s 20us/step - loss: 0.0729 - acc: 0.9900 - val_loss: 0.1378 - val_acc: 0.9726\n",
      "Epoch 20/20\n",
      "48000/48000 [==============================] - 1s 21us/step - loss: 0.0724 - acc: 0.9899 - val_loss: 0.1338 - val_acc: 0.9741\n"
     ]
    },
    {
     "data": {
      "text/plain": [
       "<keras.callbacks.History at 0x20237e3fa90>"
      ]
     },
     "execution_count": 62,
     "metadata": {},
     "output_type": "execute_result"
    }
   ],
   "source": [
    "#train the network\n",
    "\n",
    "model.fit(x_train, y_train, epochs=20, batch_size=batch_size, validation_split=0.2)"
   ]
  },
  {
   "cell_type": "code",
   "execution_count": 63,
   "metadata": {},
   "outputs": [
    {
     "name": "stdout",
     "output_type": "stream",
     "text": [
      "10000/10000 [==============================] - 0s 8us/step\n",
      "Test Accuracy: 97.8%\n"
     ]
    }
   ],
   "source": [
    "#validate the model on test dataset\n",
    "\n",
    "loss, acc= model.evaluate(x_test, y_test, batch_size=batch_size)\n",
    "print(\"Test Accuracy: %.1f%%\" %(100.0*acc))"
   ]
  },
  {
   "cell_type": "code",
   "execution_count": null,
   "metadata": {},
   "outputs": [],
   "source": []
  }
 ],
 "metadata": {
  "kernelspec": {
   "display_name": "Python 3",
   "language": "python",
   "name": "python3"
  },
  "language_info": {
   "codemirror_mode": {
    "name": "ipython",
    "version": 3
   },
   "file_extension": ".py",
   "mimetype": "text/x-python",
   "name": "python",
   "nbconvert_exporter": "python",
   "pygments_lexer": "ipython3",
   "version": "3.6.6"
  }
 },
 "nbformat": 4,
 "nbformat_minor": 2
}

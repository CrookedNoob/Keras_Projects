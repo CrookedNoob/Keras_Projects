{
 "cells": [
  {
   "cell_type": "markdown",
   "metadata": {},
   "source": [
    "# Machine Learning Fundamentals\n",
    "\n",
    "- Model Evaluation\n",
    "- Data Preprocessing\n",
    "- Feature Engineering\n",
    "- Obverfitting"
   ]
  },
  {
   "cell_type": "markdown",
   "metadata": {},
   "source": [
    "### Branches of Machine Learning\n",
    "\n",
    "#### Supervised Learning\n",
    "It consists of learning to map input data to known targets (also called *annotations*).\n",
    "> Optical character recognition<br/>\n",
    "> Speech recognition<br/>\n",
    "> Image classification<br/>\n",
    "> Language translation\n",
    "\n",
    "Few Exotic Variants are:\n",
    " - **Sequence generation—** Given a picture, predict a caption describing it. Sequence generation can sometimes be reformulated as a series of classification problems (such as repeatedly predicting a word or token in a sequence).\n",
    " - **Syntax tree prediction—** Given a sentence, predict its decomposition into a syntax tree.\n",
    " - **Object detection—** Given a picture, draw a bounding box around certain objects inside the picture. This can also be expressed as a classification problem (given many candidate bounding boxes, classify the contents of each one) or as a joint classification and regression problem, where the bounding-box coordinates are predicted via vector regression.\n",
    " - **Image segmentation—** Given a picture, draw a pixel-level mask on a specific object.\n",
    " \n",
    "#### Unsupervised Learning\n",
    "This branch of machine learning consists of finding interesting transformations of the input data without the help of any targets, for the purposes of data visualization, data compression, or data denoising, or to better understand the correlations present in the data at hand. It’s often a necessary step in better understanding a dataset before attempting to solve a supervised-learning problem. ```Dimensionality reduction``` and ```clustering``` are well-known categories of unsupervised learning.\n",
    "\n",
    "#### Self-Supervised Learning\n",
    "Self-supervised learning is supervised learning without human-annotated labels. There are still labels involved (because the learning has to be supervised by something), but they’re generated from the input data, typically using a heuristic algorithm.\n",
    "\n",
    "For instance, *autoencoders* are a well-known instance of self-supervised learning, where the generated targets are the input, unmodified. In the same way, trying to predict the next frame in a video, given past frames, or the next word in a text, given previous words, are instances of self-supervised learning (temporally supervised learning, in this case: supervision comes from future input data). Note that the distinction between supervised, self-supervised, and unsupervised learning can be blurry sometimes—these categories are more of a continuum without solid borders. Self-supervised learning can be reinterpreted as either supervised or unsupervised learning, depending on whether we pay attention to the learning mechanism or to the context of its application.\n",
    "\n",
    "#### Reinforcement Learning\n",
    "In reinforcement learning, an *agent* receives information about its environment and learns to choose actions that will maximize some reward. For instance, a neural network that “looks” at a videogame screen and outputs game actions in order to maximize its score can be trained via reinforcement learning.\n",
    "\n",
    "#### Classification & Regression Glossary\n",
    " - **Sample or input—** One data point that goes into model.\n",
    " - **Prediction or output—** What comes out of model.\n",
    " - **Target—** The truth. The value that the model should ideally have predicted, according to an external source of data.\n",
    " - **Prediction error or loss value—** A measure of the distance between model’s prediction and the target.\n",
    " - **Classes—** A set of possible labels to choose from in a classification problem. For example, when classifying cat and dog pictures, “dog” and “cat” are the two classes.\n",
    " - **Label—** A specific instance of a class annotation in a classification problem. For instance, if picture #1234 is annotated as containing the class “dog,” then “dog” is a label of picture #1234.\n",
    " - **Ground-truth or annotations—** All targets for a dataset, typically collected by humans.\n",
    " - **Binary classification—** A classification task where each input sample should be categorized into two exclusive categories.\n",
    " - **Multiclass classification—** A classification task where each input sample should be categorized into more than two categories: for instance, classifying handwritten digits.\n",
    " - **Multilabel classification—** A classification task where each input sample can be assigned multiple labels. For instance, a given image may contain both a cat and a dog and should be annotated both with the “cat” label and the “dog” label. The number of labels per image is usually variable.\n",
    " - **Scalar regression—** A task where the target is a continuous scalar value. Predicting house prices is a good example: the different target prices form a continuous space.\n",
    " - **Vector regression—** A task where the target is a set of continuous values: for example, a continuous vector. A regression against multiple values (such as the coordinates of a bounding box in an image) is a *vector regression*.\n",
    " - **Mini-batch or batch—** A small set of samples (typically between 8 and 128) that are processed simultaneously by the model. The number of samples is often a power of 2, to facilitate memory allocation on GPU. When training, a mini-batch is used to compute a single gradient-descent update applied to the weights of the model."
   ]
  },
  {
   "cell_type": "code",
   "execution_count": null,
   "metadata": {},
   "outputs": [],
   "source": []
  }
 ],
 "metadata": {
  "kernelspec": {
   "display_name": "Python 3",
   "language": "python",
   "name": "python3"
  },
  "language_info": {
   "codemirror_mode": {
    "name": "ipython",
    "version": 3
   },
   "file_extension": ".py",
   "mimetype": "text/x-python",
   "name": "python",
   "nbconvert_exporter": "python",
   "pygments_lexer": "ipython3",
   "version": "3.6.6"
  }
 },
 "nbformat": 4,
 "nbformat_minor": 2
}
